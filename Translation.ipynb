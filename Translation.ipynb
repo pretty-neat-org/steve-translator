{
  "nbformat": 4,
  "nbformat_minor": 0,
  "metadata": {
    "colab": {
      "name": "Untitled10.ipynb",
      "provenance": [],
      "authorship_tag": "ABX9TyPswkWCHN1w5Xd5EXaVvzQ7",
      "include_colab_link": true
    },
    "kernelspec": {
      "name": "python3",
      "display_name": "Python 3"
    },
    "language_info": {
      "name": "python"
    }
  },
  "cells": [
    {
      "cell_type": "markdown",
      "metadata": {
        "id": "view-in-github",
        "colab_type": "text"
      },
      "source": [
        "<a href=\"https://colab.research.google.com/github/pretty-neat-org/steve-translator/blob/main/Translation.ipynb\" target=\"_parent\"><img src=\"https://colab.research.google.com/assets/colab-badge.svg\" alt=\"Open In Colab\"/></a>"
      ]
    },
    {
      "cell_type": "code",
      "metadata": {
        "colab": {
          "base_uri": "https://localhost:8080/"
        },
        "id": "QAoJ5ZjemQt5",
        "outputId": "9f79422d-9b99-41c0-e8e9-9bfaf4203269"
      },
      "source": [
        "!pip install transformers\n",
        "!pip install sentencepiece\n"
      ],
      "execution_count": 6,
      "outputs": [
        {
          "output_type": "stream",
          "text": [
            "Requirement already satisfied: transformers in /usr/local/lib/python3.7/dist-packages (4.8.1)\n",
            "Requirement already satisfied: pyyaml in /usr/local/lib/python3.7/dist-packages (from transformers) (3.13)\n",
            "Requirement already satisfied: sacremoses in /usr/local/lib/python3.7/dist-packages (from transformers) (0.0.45)\n",
            "Requirement already satisfied: huggingface-hub==0.0.12 in /usr/local/lib/python3.7/dist-packages (from transformers) (0.0.12)\n",
            "Requirement already satisfied: requests in /usr/local/lib/python3.7/dist-packages (from transformers) (2.23.0)\n",
            "Requirement already satisfied: numpy>=1.17 in /usr/local/lib/python3.7/dist-packages (from transformers) (1.19.5)\n",
            "Requirement already satisfied: packaging in /usr/local/lib/python3.7/dist-packages (from transformers) (20.9)\n",
            "Requirement already satisfied: filelock in /usr/local/lib/python3.7/dist-packages (from transformers) (3.0.12)\n",
            "Requirement already satisfied: tqdm>=4.27 in /usr/local/lib/python3.7/dist-packages (from transformers) (4.41.1)\n",
            "Requirement already satisfied: regex!=2019.12.17 in /usr/local/lib/python3.7/dist-packages (from transformers) (2019.12.20)\n",
            "Requirement already satisfied: importlib-metadata; python_version < \"3.8\" in /usr/local/lib/python3.7/dist-packages (from transformers) (4.5.0)\n",
            "Requirement already satisfied: tokenizers<0.11,>=0.10.1 in /usr/local/lib/python3.7/dist-packages (from transformers) (0.10.3)\n",
            "Requirement already satisfied: click in /usr/local/lib/python3.7/dist-packages (from sacremoses->transformers) (7.1.2)\n",
            "Requirement already satisfied: six in /usr/local/lib/python3.7/dist-packages (from sacremoses->transformers) (1.15.0)\n",
            "Requirement already satisfied: joblib in /usr/local/lib/python3.7/dist-packages (from sacremoses->transformers) (1.0.1)\n",
            "Requirement already satisfied: typing-extensions in /usr/local/lib/python3.7/dist-packages (from huggingface-hub==0.0.12->transformers) (3.7.4.3)\n",
            "Requirement already satisfied: chardet<4,>=3.0.2 in /usr/local/lib/python3.7/dist-packages (from requests->transformers) (3.0.4)\n",
            "Requirement already satisfied: urllib3!=1.25.0,!=1.25.1,<1.26,>=1.21.1 in /usr/local/lib/python3.7/dist-packages (from requests->transformers) (1.24.3)\n",
            "Requirement already satisfied: idna<3,>=2.5 in /usr/local/lib/python3.7/dist-packages (from requests->transformers) (2.10)\n",
            "Requirement already satisfied: certifi>=2017.4.17 in /usr/local/lib/python3.7/dist-packages (from requests->transformers) (2021.5.30)\n",
            "Requirement already satisfied: pyparsing>=2.0.2 in /usr/local/lib/python3.7/dist-packages (from packaging->transformers) (2.4.7)\n",
            "Requirement already satisfied: zipp>=0.5 in /usr/local/lib/python3.7/dist-packages (from importlib-metadata; python_version < \"3.8\"->transformers) (3.4.1)\n",
            "Requirement already satisfied: sentencepiece in /usr/local/lib/python3.7/dist-packages (0.1.96)\n"
          ],
          "name": "stdout"
        }
      ]
    },
    {
      "cell_type": "code",
      "metadata": {
        "colab": {
          "base_uri": "https://localhost:8080/"
        },
        "id": "hSwu94VWpvIH",
        "outputId": "bf49eea6-f7d9-4b5a-bef6-985fd817a3a2"
      },
      "source": [
        "\n",
        "from transformers import MarianTokenizer, AutoModelForSeq2SeqLM\n",
        "\n",
        "# russian\n",
        "texts = [\n",
        "         'Садовый салат', #bastenska salata\n",
        "         'Томатный суп', #paradajz čorba\n",
        "         'Крафт пиво',\n",
        "         'Картофельный салат',\n",
        "         'Стейк Караджордже',\n",
        "         'Макароны с сыром'\n",
        "]\n",
        "mname = 'Helsinki-NLP/opus-mt-ru-en'\n",
        "tokenizer = MarianTokenizer.from_pretrained(mname)\n",
        "model = AutoModelForSeq2SeqLM.from_pretrained(mname)\n",
        "for text in texts:\n",
        "  input_ids = tokenizer.encode(text, return_tensors=\"pt\")\n",
        "  outputs = model.generate(input_ids)\n",
        "  decoded = tokenizer.decode(outputs[0], skip_special_tokens=True)\n",
        "  print(decoded)\n"
      ],
      "execution_count": 7,
      "outputs": [
        {
          "output_type": "stream",
          "text": [
            "Garden salad\n",
            "Tomato soup\n",
            "Craft beer\n",
            "Potato salad\n",
            "Steak Karajordge\n",
            "The macaroni and cheese.\n"
          ],
          "name": "stdout"
        }
      ]
    },
    {
      "cell_type": "code",
      "metadata": {
        "id": "wEqnGZJZuGGt",
        "outputId": "e41f72d6-00f7-4a91-d494-1ec1bdef4fb6",
        "colab": {
          "base_uri": "https://localhost:8080/"
        }
      },
      "source": [
        "# german\n",
        "\n",
        "texts = [\n",
        "         'Gartensalat', #bastenska salata\n",
        "         'Tomatensuppe', #paradajz čorba\n",
        "         'Handgemachtes Bier',\n",
        "         'Kartoffelsalat',\n",
        "         'Steak Karadjordje',\n",
        "         'Makkaroni mit Käse'\n",
        "]\n",
        "mname = 'Helsinki-NLP/opus-mt-de-en'\n",
        "tokenizer = MarianTokenizer.from_pretrained(mname)\n",
        "model = AutoModelForSeq2SeqLM.from_pretrained(mname)\n",
        "for text in texts:\n",
        "  input_ids = tokenizer.encode(text, return_tensors=\"pt\")\n",
        "  outputs = model.generate(input_ids)\n",
        "  decoded = tokenizer.decode(outputs[0], skip_special_tokens=True)\n",
        "  print(decoded)"
      ],
      "execution_count": 8,
      "outputs": [
        {
          "output_type": "stream",
          "text": [
            "Garden salad\n",
            "Tomato soup\n",
            "Handmade beer\n",
            "Potato salad\n",
            "Steak Karadjordje\n",
            "Macaroni with cheese\n"
          ],
          "name": "stdout"
        }
      ]
    },
    {
      "cell_type": "code",
      "metadata": {
        "id": "swmKmJlXu-Ii",
        "outputId": "39b05b6a-be52-46d9-eb9a-3941bbf1eea1",
        "colab": {
          "base_uri": "https://localhost:8080/"
        }
      },
      "source": [
        "# italian\n",
        "\n",
        "texts = [\n",
        "         'Insalata di giardino', #bastenska salata\n",
        "         'Zuppa di pomodoro', #paradajz čorba\n",
        "         'Birra artigianale',\n",
        "         'Insalata di patate',\n",
        "         'Bistecca alla Karajordge',\n",
        "         'maccheroni al formaggio'\n",
        "]\n",
        "mname = 'Helsinki-NLP/opus-mt-it-en'\n",
        "tokenizer = MarianTokenizer.from_pretrained(mname)\n",
        "model = AutoModelForSeq2SeqLM.from_pretrained(mname)\n",
        "for text in texts:\n",
        "  input_ids = tokenizer.encode(text, return_tensors=\"pt\")\n",
        "  outputs = model.generate(input_ids)\n",
        "  decoded = tokenizer.decode(outputs[0], skip_special_tokens=True)\n",
        "  print(decoded)"
      ],
      "execution_count": 9,
      "outputs": [
        {
          "output_type": "stream",
          "text": [
            "Garden salad\n",
            "Tomato soup\n",
            "Handicraft beer\n",
            "Potato salad\n",
            "Karajordge steak\n",
            "Macaroni with cheese\n"
          ],
          "name": "stdout"
        }
      ]
    }
  ]
}